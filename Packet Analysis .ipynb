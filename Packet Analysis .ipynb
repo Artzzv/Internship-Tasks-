{
 "cells": [
  {
   "cell_type": "code",
   "execution_count": null,
   "id": "d9f28d04",
   "metadata": {},
   "outputs": [],
   "source": [
    "from scapy.all import *\n",
    "from scapy.layers.inet import IP\n",
    "\n",
    "def packet_analysis(packet):\n",
    "    try:\n",
    "        # Check if packet is IPv4\n",
    "        if packet.haslayer(IP):\n",
    "            # Get source and destination IP addresses\n",
    "            source_ip = packet[IP].src\n",
    "            destination_ip = packet[IP].dst\n",
    "\n",
    "            # Get protocol\n",
    "            protocol = packet[IP].proto\n",
    "\n",
    "            # Decode payload data if available\n",
    "            payload = \"\"\n",
    "            if packet.haslayer(Raw):\n",
    "                payload = packet[Raw].load.decode(errors='ignore')\n",
    "\n",
    "            # Print packet information\n",
    "            print(f\"Source IP: {source_ip}\")\n",
    "            print(f\"Destination IP: {destination_ip}\")\n",
    "            print(f\"Protocol: {protocol}\")\n",
    "            print(f\"Payload: {payload}\")\n",
    "            print(\"--------------------------------\")\n",
    "\n",
    "            # Log to a file\n",
    "            with open('packet_log.txt', 'a') as log_file:\n",
    "                log_file.write(f\"Source IP: {source_ip}, Destination IP: {destination_ip}, Protocol: {protocol}, Payload: {payload}\\n\")\n",
    "\n",
    "    except Exception as e:\n",
    "        print(f\"Error processing packet: {e}\")\n",
    "\n",
    "# Start sniffing\n",
    "sniff(filter=\"ip\", prn=packet_analysis)"
   ]
  }
 ],
 "metadata": {
  "kernelspec": {
   "display_name": "Python 3 (ipykernel)",
   "language": "python",
   "name": "python3"
  },
  "language_info": {
   "codemirror_mode": {
    "name": "ipython",
    "version": 3
   },
   "file_extension": ".py",
   "mimetype": "text/x-python",
   "name": "python",
   "nbconvert_exporter": "python",
   "pygments_lexer": "ipython3",
   "version": "3.11.5"
  }
 },
 "nbformat": 4,
 "nbformat_minor": 5
}
